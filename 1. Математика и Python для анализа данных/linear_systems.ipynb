{
 "cells": [
  {
   "cell_type": "code",
   "execution_count": 1,
   "metadata": {},
   "outputs": [
    {
     "name": "stdout",
     "output_type": "stream",
     "text": [
      "3.252216865271419\n",
      "0.6352214195786656\n"
     ]
    }
   ],
   "source": [
    "from math import sin, exp\n",
    "def f(x):\n",
    "    return sin(x/5) * exp(x/10) + 5*exp(-x/2) # x\\in [1, 15]\n",
    "print(f(1))\n",
    "print(f(15))"
   ]
  },
  {
   "cell_type": "markdown",
   "metadata": {},
   "source": [
    "$w_0 + w_1\\cdot x_1 = f(x_1)$\n",
    "\n",
    "$w_0 + w_1\\cdot x_2 = f(x_2)$"
   ]
  },
  {
   "cell_type": "code",
   "execution_count": 2,
   "metadata": {},
   "outputs": [],
   "source": [
    "import numpy as np\n",
    "from scipy import linalg\n",
    "A = np.array([[1, 1],[1, 15]])\n",
    "b = np.array([f(1), f(15)])\n",
    "x = linalg.solve(A, b)"
   ]
  },
  {
   "cell_type": "code",
   "execution_count": 3,
   "metadata": {},
   "outputs": [
    {
     "data": {
      "text/plain": [
       "array([-4.75371574e-16,  1.00000000e+00, -1.16856963e-15, -2.00000000e+00])"
      ]
     },
     "execution_count": 3,
     "metadata": {},
     "output_type": "execute_result"
    }
   ],
   "source": [
    "import numpy as np\n",
    "from math import sqrt\n",
    "A = np.array([[-4.5, -sqrt(3)/2, 2, 0],\n",
    "             [sqrt(3)/2, -4.5, 0, 2],\n",
    "             [4, 0, -1.5, sqrt(3)/2],\n",
    "             [0, 4, -sqrt(3)/2, -1.5]])\n",
    "b = np.array([-sqrt(3)/2, -8.5, -sqrt(3), 7])\n",
    "x = linalg.solve(A, b)\n",
    "x"
   ]
  },
  {
   "cell_type": "code",
   "execution_count": null,
   "metadata": {},
   "outputs": [],
   "source": []
  },
  {
   "cell_type": "code",
   "execution_count": null,
   "metadata": {},
   "outputs": [],
   "source": []
  },
  {
   "cell_type": "code",
   "execution_count": null,
   "metadata": {},
   "outputs": [],
   "source": []
  },
  {
   "cell_type": "markdown",
   "metadata": {},
   "source": [
    "$w_0 + w_1\\cdot x_1 + w_2\\cdot x_1^2 = f(x_1)$\n",
    "\n",
    "$w_0 + w_1\\cdot x_2 + w_2\\cdot x_2^2 = f(x_2)$\n",
    "\n",
    "$w_0 + w_1\\cdot x_3 + w_2\\cdot x_3^2 = f(x_3)$"
   ]
  },
  {
   "cell_type": "code",
   "execution_count": 3,
   "metadata": {},
   "outputs": [],
   "source": [
    "A = np.array([[1, 1, 1],[1, 8, 64], [1, 15, 225]])\n",
    "b = np.array([f(1), f(8), f(15)])\n",
    "x = linalg.solve(A, b)"
   ]
  },
  {
   "cell_type": "markdown",
   "metadata": {},
   "source": [
    "$w_0 + w_1\\cdot x_1 + w_2\\cdot x_1^2 + w_3\\cdot x_1^3 = f(x_1)$\n",
    "\n",
    "$w_0 + w_1\\cdot x_2 + w_2\\cdot x_2^2 + w_3\\cdot x_2^3 = f(x_2)$\n",
    "\n",
    "$w_0 + w_1\\cdot x_3 + w_2\\cdot x_3^2 + w_3\\cdot x_3^3 = f(x_3)$\n",
    "\n",
    "$w_0 + w_1\\cdot x_4 + w_2\\cdot x_4^2 + w_3\\cdot x_4^3 = f(x_4)$"
   ]
  },
  {
   "cell_type": "code",
   "execution_count": 4,
   "metadata": {},
   "outputs": [],
   "source": [
    "A = np.array([[1, 1, 1, 1],[1, 4, 16, 64], [1, 10, 100, 1000], [1, 15, 225, 3375]])\n",
    "b = np.array([f(1), f(4), f(10), f(15)])\n",
    "x = linalg.solve(A, b)"
   ]
  },
  {
   "cell_type": "code",
   "execution_count": 5,
   "metadata": {},
   "outputs": [
    {
     "data": {
      "text/plain": [
       "array([ 4.36264154, -1.29552587,  0.19333685, -0.00823565])"
      ]
     },
     "execution_count": 5,
     "metadata": {},
     "output_type": "execute_result"
    }
   ],
   "source": [
    "x"
   ]
  },
  {
   "cell_type": "code",
   "execution_count": null,
   "metadata": {},
   "outputs": [],
   "source": []
  }
 ],
 "metadata": {
  "kernelspec": {
   "display_name": "Python 3",
   "language": "python",
   "name": "python3"
  },
  "language_info": {
   "codemirror_mode": {
    "name": "ipython",
    "version": 3
   },
   "file_extension": ".py",
   "mimetype": "text/x-python",
   "name": "python",
   "nbconvert_exporter": "python",
   "pygments_lexer": "ipython3",
   "version": "3.8.5"
  }
 },
 "nbformat": 4,
 "nbformat_minor": 4
}
